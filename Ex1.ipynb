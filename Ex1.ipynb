{
 "cells": [
  {
   "cell_type": "code",
   "execution_count": 19,
   "metadata": {},
   "outputs": [],
   "source": [
    "# used for manipulating directory paths\n",
    "import os\n",
    "# Scientific and vector computation for python\n",
    "import numpy as np\n",
    "# Plotting library\n",
    "from matplotlib import pyplot\n",
    "from mpl_toolkits.mplot3d import Axes3D  # needed to plot 3-D surfaces\n",
    "\n",
    "# tells matplotlib to embed plots within the notebook\n",
    "%matplotlib inline"
   ]
  },
  {
   "cell_type": "code",
   "execution_count": 20,
   "metadata": {
    "scrolled": true
   },
   "outputs": [
    {
     "name": "stdout",
     "output_type": "stream",
     "text": [
      "[[1. 0. 0. 0. 0.]\n",
      " [0. 1. 0. 0. 0.]\n",
      " [0. 0. 1. 0. 0.]\n",
      " [0. 0. 0. 1. 0.]\n",
      " [0. 0. 0. 0. 1.]]\n",
      "<class 'numpy.ndarray'>\n"
     ]
    }
   ],
   "source": [
    "A = np.eye(5)\n",
    "print (A)\n",
    "print (type(A))"
   ]
  },
  {
   "cell_type": "code",
   "execution_count": 21,
   "metadata": {},
   "outputs": [
    {
     "name": "stdout",
     "output_type": "stream",
     "text": [
      "97\n",
      "(97, 2)\n",
      "97\n",
      "2\n",
      "194\n"
     ]
    }
   ],
   "source": [
    "fname = 'ex1data1.txt'\n",
    "data = np.loadtxt(fname,dtype='float', delimiter=',')\n",
    "#print (data)\n",
    "print(len(data))\n",
    "print(data.shape)\n",
    "print(data.shape[0])\n",
    "print(data.shape[1])\n",
    "print(np.size(data))"
   ]
  },
  {
   "cell_type": "code",
   "execution_count": 22,
   "metadata": {},
   "outputs": [
    {
     "name": "stdout",
     "output_type": "stream",
     "text": [
      "(97,)\n",
      "(97,)\n"
     ]
    }
   ],
   "source": [
    "X, y = data[:, 0], data[:, 1]\n",
    "print(X.shape)\n",
    "print(y.shape)\n",
    "m = y.size  # number of training examples"
   ]
  },
  {
   "cell_type": "code",
   "execution_count": 23,
   "metadata": {},
   "outputs": [
    {
     "name": "stdout",
     "output_type": "stream",
     "text": [
      "(97, 1)\n",
      "(97, 1)\n"
     ]
    }
   ],
   "source": [
    "X=np.expand_dims(data[:, 0], axis=1)\n",
    "y=np.expand_dims(data[:, 1], axis=1)\n",
    "#X=np.reshape(X, (-1, 1))\n",
    "print(X.shape)\n",
    "print(y.shape)"
   ]
  },
  {
   "cell_type": "code",
   "execution_count": 24,
   "metadata": {},
   "outputs": [
    {
     "data": {
      "text/plain": [
       "Text(0.5, 0, 'Population of City in 10,000s')"
      ]
     },
     "execution_count": 24,
     "metadata": {},
     "output_type": "execute_result"
    },
    {
     "data": {
      "image/png": "[encoded data removed]",
      "text/plain": [
       "<Figure size 432x288 with 1 Axes>"
      ]
     },
     "metadata": {
      "needs_background": "light"
     },
     "output_type": "display_data"
    }
   ],
   "source": [
    "pyplot.plot(X, y, 'ro', ms=10, mec='k')\n",
    "pyplot.ylabel('Profit in $10,000')\n",
    "pyplot.xlabel('Population of City in 10,000s')"
   ]
  },
  {
   "cell_type": "markdown",
   "metadata": {},
   "source": [
    "# Add features"
   ]
  },
  {
   "cell_type": "code",
   "execution_count": 25,
   "metadata": {},
   "outputs": [],
   "source": [
    "min_array=np.amin(X,axis=0,keepdims=True)\n",
    "max_array=np.amax(X,axis=0,keepdims=True)\n",
    "mean_array=np.mean(X,axis=0,dtype=float,keepdims=True)\n",
    "X=(X-mean_array)/(max_array-min_array)"
   ]
  },
  {
   "cell_type": "code",
   "execution_count": 26,
   "metadata": {},
   "outputs": [
    {
     "name": "stdout",
     "output_type": "stream",
     "text": [
      "(97, 1)\n"
     ]
    }
   ],
   "source": [
    "tempo=np.ones(shape=(X.shape[0],1))\n",
    "print(tempo.shape)"
   ]
  },
  {
   "cell_type": "code",
   "execution_count": 27,
   "metadata": {},
   "outputs": [
    {
     "name": "stdout",
     "output_type": "stream",
     "text": [
      "(97, 2)\n"
     ]
    }
   ],
   "source": [
    "X=np.append(tempo,X,axis=1)\n",
    "print (X.shape)"
   ]
  },
  {
   "cell_type": "code",
   "execution_count": 28,
   "metadata": {},
   "outputs": [],
   "source": [
    "a = np.array([[1,2],[3,4]])\n",
    "b = np.array([[1,1],[1,1]])"
   ]
  },
  {
   "cell_type": "code",
   "execution_count": 29,
   "metadata": {},
   "outputs": [
    {
     "name": "stdout",
     "output_type": "stream",
     "text": [
      "[[3 3]\n",
      " [7 7]]\n"
     ]
    }
   ],
   "source": [
    "print (a@b)"
   ]
  },
  {
   "cell_type": "code",
   "execution_count": 30,
   "metadata": {},
   "outputs": [
    {
     "name": "stdout",
     "output_type": "stream",
     "text": [
      "[[3 3]\n",
      " [7 7]]\n"
     ]
    }
   ],
   "source": [
    "print (np.dot(a,b))"
   ]
  },
  {
   "cell_type": "code",
   "execution_count": 31,
   "metadata": {},
   "outputs": [
    {
     "name": "stdout",
     "output_type": "stream",
     "text": [
      "[[1. 1.]]\n"
     ]
    }
   ],
   "source": [
    "theta=np.ones(shape=(1,2))\n",
    "print (theta)"
   ]
  },
  {
   "cell_type": "markdown",
   "metadata": {},
   "source": [
    "# Hypothesis Implementation: Vectorization"
   ]
  },
  {
   "cell_type": "code",
   "execution_count": 32,
   "metadata": {},
   "outputs": [
    {
     "name": "stdout",
     "output_type": "stream",
     "text": [
      "(97, 1)\n",
      "Wall time: 0 ns\n"
     ]
    }
   ],
   "source": [
    "%%time\n",
    "h=np.dot(X,theta.T)\n",
    "print (h.shape)"
   ]
  },
  {
   "cell_type": "markdown",
   "metadata": {},
   "source": [
    "# Cost function Implementation"
   ]
  },
  {
   "cell_type": "code",
   "execution_count": 33,
   "metadata": {},
   "outputs": [
    {
     "name": "stdout",
     "output_type": "stream",
     "text": [
      "(1, 1)\n",
      "[[25.72922558]]\n",
      "Wall time: 999 µs\n"
     ]
    }
   ],
   "source": [
    "%%time\n",
    "m=np.squeeze((X.shape[0]))\n",
    "cost = 1/(2*m)*((np.transpose((np.dot(X,theta.T)) -y))@((np.dot(X,theta.T)) -y))\n",
    "print (cost.shape)\n",
    "print (cost)"
   ]
  },
  {
   "cell_type": "markdown",
   "metadata": {},
   "source": [
    "# Derivation Implementation: Vectorization\n"
   ]
  },
  {
   "cell_type": "code",
   "execution_count": 34,
   "metadata": {},
   "outputs": [
    {
     "name": "stdout",
     "output_type": "stream",
     "text": [
      "(1, 2)\n",
      "Wall time: 0 ns\n"
     ]
    }
   ],
   "source": [
    "%%time\n",
    "#print(theta.shape)\n",
    "#print((np.dot(X,theta.T)).shape)\n",
    "#print(X.T.shape)\n",
    "#print(X.shape)\n",
    "#print((1/m)*(X.T)@((np.dot(X,theta.T)) -y))\n",
    "dev=(1/m)*(((X.T)@((np.dot(X,theta.T)) -y)).T)\n",
    "print(dev.shape)"
   ]
  },
  {
   "cell_type": "code",
   "execution_count": 38,
   "metadata": {},
   "outputs": [
    {
     "name": "stdout",
     "output_type": "stream",
     "text": [
      "[[1.04839135 1.00979253]]\n"
     ]
    }
   ],
   "source": [
    "lrate=0.01\n",
    "theta1=theta-lrate*dev\n",
    "print(theta1)"
   ]
  },
  {
   "cell_type": "markdown",
   "metadata": {},
   "source": [
    "# Predictions"
   ]
  },
  {
   "cell_type": "code",
   "execution_count": 39,
   "metadata": {},
   "outputs": [],
   "source": [
    "num_iterations=100000\n",
    "learning_rate=0.0001\n",
    "m=np.squeeze((X.shape[0]))"
   ]
  },
  {
   "cell_type": "code",
   "execution_count": 40,
   "metadata": {},
   "outputs": [
    {
     "name": "stdout",
     "output_type": "stream",
     "text": [
      "Cost after iteration 0: 25.486637\n",
      "Cost after iteration 1000: 7.966705\n",
      "Cost after iteration 2000: 5.754313\n",
      "Cost after iteration 3000: 4.944515\n",
      "Cost after iteration 4000: 4.648105\n",
      "Cost after iteration 5000: 4.539611\n",
      "Cost after iteration 6000: 4.499899\n",
      "Cost after iteration 7000: 4.485364\n",
      "Cost after iteration 8000: 4.480043\n",
      "Cost after iteration 9000: 4.478096\n",
      "Cost after iteration 10000: 4.477383\n",
      "Cost after iteration 11000: 4.477122\n",
      "Cost after iteration 12000: 4.477027\n",
      "Cost after iteration 13000: 4.476992\n",
      "Cost after iteration 14000: 4.476979\n",
      "Cost after iteration 15000: 4.476974\n",
      "Cost after iteration 16000: 4.476972\n",
      "Cost after iteration 17000: 4.476972\n",
      "Cost after iteration 18000: 4.476972\n",
      "Cost after iteration 19000: 4.476971\n",
      "Cost after iteration 20000: 4.476971\n",
      "Cost after iteration 21000: 4.476971\n",
      "Cost after iteration 22000: 4.476971\n",
      "Cost after iteration 23000: 4.476971\n",
      "Cost after iteration 24000: 4.476971\n",
      "Cost after iteration 25000: 4.476971\n",
      "Cost after iteration 26000: 4.476971\n",
      "Cost after iteration 27000: 4.476971\n",
      "Cost after iteration 28000: 4.476971\n",
      "Cost after iteration 29000: 4.476971\n",
      "Cost after iteration 30000: 4.476971\n",
      "Cost after iteration 31000: 4.476971\n",
      "Cost after iteration 32000: 4.476971\n",
      "Cost after iteration 33000: 4.476971\n",
      "Cost after iteration 34000: 4.476971\n",
      "Cost after iteration 35000: 4.476971\n",
      "Cost after iteration 36000: 4.476971\n",
      "Cost after iteration 37000: 4.476971\n",
      "Cost after iteration 38000: 4.476971\n",
      "Cost after iteration 39000: 4.476971\n",
      "Cost after iteration 40000: 4.476971\n",
      "Cost after iteration 41000: 4.476971\n",
      "Cost after iteration 42000: 4.476971\n",
      "Cost after iteration 43000: 4.476971\n",
      "Cost after iteration 44000: 4.476971\n",
      "Cost after iteration 45000: 4.476971\n",
      "Cost after iteration 46000: 4.476971\n",
      "Cost after iteration 47000: 4.476971\n",
      "Cost after iteration 48000: 4.476971\n",
      "Cost after iteration 49000: 4.476971\n",
      "Cost after iteration 50000: 4.476971\n",
      "Cost after iteration 51000: 4.476971\n",
      "Cost after iteration 52000: 4.476971\n",
      "Cost after iteration 53000: 4.476971\n",
      "Cost after iteration 54000: 4.476971\n",
      "Cost after iteration 55000: 4.476971\n",
      "Cost after iteration 56000: 4.476971\n",
      "Cost after iteration 57000: 4.476971\n",
      "Cost after iteration 58000: 4.476971\n",
      "Cost after iteration 59000: 4.476971\n",
      "Cost after iteration 60000: 4.476971\n",
      "Cost after iteration 61000: 4.476971\n",
      "Cost after iteration 62000: 4.476971\n",
      "Cost after iteration 63000: 4.476971\n",
      "Cost after iteration 64000: 4.476971\n",
      "Cost after iteration 65000: 4.476971\n",
      "Cost after iteration 66000: 4.476971\n",
      "Cost after iteration 67000: 4.476971\n",
      "Cost after iteration 68000: 4.476971\n",
      "Cost after iteration 69000: 4.476971\n",
      "Cost after iteration 70000: 4.476971\n",
      "Cost after iteration 71000: 4.476971\n",
      "Cost after iteration 72000: 4.476971\n",
      "Cost after iteration 73000: 4.476971\n",
      "Cost after iteration 74000: 4.476971\n",
      "Cost after iteration 75000: 4.476971\n",
      "Cost after iteration 76000: 4.476971\n",
      "Cost after iteration 77000: 4.476971\n",
      "Cost after iteration 78000: 4.476971\n",
      "Cost after iteration 79000: 4.476971\n",
      "Cost after iteration 80000: 4.476971\n",
      "Cost after iteration 81000: 4.476971\n",
      "Cost after iteration 82000: 4.476971\n",
      "Cost after iteration 83000: 4.476971\n",
      "Cost after iteration 84000: 4.476971\n",
      "Cost after iteration 85000: 4.476971\n",
      "Cost after iteration 86000: 4.476971\n",
      "Cost after iteration 87000: 4.476971\n",
      "Cost after iteration 88000: 4.476971\n",
      "Cost after iteration 89000: 4.476971\n",
      "Cost after iteration 90000: 4.476971\n",
      "Cost after iteration 91000: 4.476971\n",
      "Cost after iteration 92000: 4.476971\n",
      "Cost after iteration 93000: 4.476971\n",
      "Cost after iteration 94000: 4.476971\n",
      "Cost after iteration 95000: 4.476971\n",
      "Cost after iteration 96000: 4.476971\n",
      "Cost after iteration 97000: 4.476971\n",
      "Cost after iteration 98000: 4.476971\n",
      "Cost after iteration 99000: 4.476971\n",
      "Wall time: 3.37 s\n"
     ]
    },
    {
     "data": {
      "image/png": "[encoded data removed]",
      "text/plain": [
       "<Figure size 432x288 with 1 Axes>"
      ]
     },
     "metadata": {
      "needs_background": "light"
     },
     "output_type": "display_data"
    }
   ],
   "source": [
    "%%time\n",
    "for i in range(0, num_iterations):\n",
    "        theta=theta-lrate*dev\n",
    "        cost = 1/(2*m)*((np.transpose((np.dot(X,theta.T)) -y))@((np.dot(X,theta.T)) -y))\n",
    "        dev=(1/m)*(((X.T)@((np.dot(X,theta.T)) -y)).T)\n",
    "        if  i % 1000 == 0:\n",
    "            pyplot.plot(i, cost, 'ro', ms=10, mec='k')\n",
    "            print (\"Cost after iteration %i: %f\" % (i, cost))"
   ]
  },
  {
   "cell_type": "code",
   "execution_count": 41,
   "metadata": {},
   "outputs": [
    {
     "data": {
      "text/plain": [
       "Text(0.5, 0, 'Population of City in 10,000s')"
      ]
     },
     "execution_count": 41,
     "metadata": {},
     "output_type": "execute_result"
    },
    {
     "data": {
      "image/png": "[encoded data removed]",
      "text/plain": [
       "<Figure size 432x288 with 1 Axes>"
      ]
     },
     "metadata": {
      "needs_background": "light"
     },
     "output_type": "display_data"
    }
   ],
   "source": [
    "pyplot.plot(data[:, 0], data[:, 1], 'ro', ms=10, mec='k')\n",
    "pyplot.ylabel('Profit in $10,000')\n",
    "pyplot.xlabel('Population of City in 10,000s')"
   ]
  },
  {
   "cell_type": "code",
   "execution_count": 42,
   "metadata": {},
   "outputs": [
    {
     "data": {
      "text/plain": [
       "Text(0.5, 0, 'Population of City in 10,000s')"
      ]
     },
     "execution_count": 42,
     "metadata": {},
     "output_type": "execute_result"
    },
    {
     "data": {
      "image/png": "[encoded data removed]",
      "text/plain": [
       "<Figure size 432x288 with 1 Axes>"
      ]
     },
     "metadata": {
      "needs_background": "light"
     },
     "output_type": "display_data"
    }
   ],
   "source": [
    "pyplot.plot(data[:, 0], data[:, 1], 'ro', ms=10, mec='k')\n",
    "pyplot.plot(data[:, 0], np.dot(X,theta.T), 'b-', ms=10, mec='k')\n",
    "pyplot.ylabel('Profit in $10,000')\n",
    "pyplot.xlabel('Population of City in 10,000s')"
   ]
  },
  {
   "cell_type": "markdown",
   "metadata": {},
   "source": [
    "# Quadratic function"
   ]
  },
  {
   "cell_type": "code",
   "execution_count": 136,
   "metadata": {},
   "outputs": [
    {
     "name": "stdout",
     "output_type": "stream",
     "text": [
      "(97, 1)\n"
     ]
    }
   ],
   "source": [
    "X = data[:, 0]\n",
    "X=np.expand_dims(data[:, 0], axis=1)\n",
    "min_array=np.amin(X,axis=0,keepdims=True)\n",
    "max_array=np.amax(X,axis=0,keepdims=True)\n",
    "mean_array=np.mean(X,axis=0,dtype=float,keepdims=True)\n",
    "X=(X-mean_array)/(max_array-min_array)\n",
    "print(X.shape)"
   ]
  },
  {
   "cell_type": "code",
   "execution_count": 137,
   "metadata": {
    "scrolled": true
   },
   "outputs": [
    {
     "name": "stdout",
     "output_type": "stream",
     "text": [
      "(97, 3)\n",
      "[[ 1.00000000e+00 -1.19334424e-01  1.42407048e-01]\n",
      " [ 1.00000000e+00 -1.53242005e-01  2.34831121e-01]\n",
      " [ 1.00000000e+00  2.08894918e-02  4.36370867e-03]\n",
      " [ 1.00000000e+00 -6.73377542e-02  4.53437314e-02]\n",
      " [ 1.00000000e+00 -1.33906999e-01  1.79310843e-01]\n",
      " [ 1.00000000e+00  1.29889789e-02  1.68713572e-03]\n",
      " [ 1.00000000e+00 -3.97878447e-02  1.58307259e-02]\n",
      " [ 1.00000000e+00  2.43536076e-02  5.93098205e-03]\n",
      " [ 1.00000000e+00 -9.74377187e-02  9.49410902e-02]\n",
      " [ 1.00000000e+00 -1.80786092e-01  3.26836112e-01]\n",
      " [ 1.00000000e+00 -1.42587665e-01  2.03312423e-01]\n",
      " [ 1.00000000e+00  3.49567131e-01  1.22197179e+00]\n",
      " [ 1.00000000e+00 -1.41231129e-01  1.99462319e-01]\n",
      " [ 1.00000000e+00  1.44735999e-02  2.09485095e-03]\n",
      " [ 1.00000000e+00 -1.46663096e-01  2.15100637e-01]\n",
      " [ 1.00000000e+00 -1.61876095e-01  2.62038702e-01]\n",
      " [ 1.00000000e+00 -1.04470747e-01  1.09141370e-01]\n",
      " [ 1.00000000e+00 -1.76390450e-01  3.11135907e-01]\n",
      " [ 1.00000000e+00 -1.00732995e-01  1.01471363e-01]\n",
      " [ 1.00000000e+00 -6.34020529e-02  4.01982031e-02]\n",
      " [ 1.00000000e+00 -1.14735010e-01  1.31641224e-01]\n",
      " [ 1.00000000e+00  7.05061102e-01  4.97111158e+00]\n",
      " [ 1.00000000e+00 -1.55431093e-01  2.41588247e-01]\n",
      " [ 1.00000000e+00 -1.06758810e-01  1.13974436e-01]\n",
      " [ 1.00000000e+00 -1.51076205e-01  2.28240196e-01]\n",
      " [ 1.00000000e+00  6.27919027e-01  3.94282304e+00]\n",
      " [ 1.00000000e+00  2.71784631e-01  7.38668856e-01]\n",
      " [ 1.00000000e+00  1.62854199e-01  2.65214900e-01]\n",
      " [ 1.00000000e+00  2.92045342e-01  8.52904818e-01]\n",
      " [ 1.00000000e+00  8.17601202e-01  6.68471725e+00]\n",
      " [ 1.00000000e+00 -1.69270090e-01  2.86523635e-01]\n",
      " [ 1.00000000e+00 -9.14293699e-02  8.35932968e-02]\n",
      " [ 1.00000000e+00  6.33671206e-02  4.01539197e-02]\n",
      " [ 1.00000000e+00 -1.32043945e-01  1.74356034e-01]\n",
      " [ 1.00000000e+00  2.98670827e-03  8.92042632e-05]\n",
      " [ 1.00000000e+00 -1.31811063e-02  1.73741563e-03]\n",
      " [ 1.00000000e+00 -3.72028575e-03  1.38405260e-04]\n",
      " [ 1.00000000e+00 -1.48665879e-01  2.21015435e-01]\n",
      " [ 1.00000000e+00  2.72250394e-01  7.41202773e-01]\n",
      " [ 1.00000000e+00 -1.05169392e-01  1.10606011e-01]\n",
      " [ 1.00000000e+00 -1.60275033e-01  2.56880863e-01]\n",
      " [ 1.00000000e+00 -7.43649606e-02  5.53014737e-02]\n",
      " [ 1.00000000e+00  2.06577745e-01  4.26743646e-01]\n",
      " [ 1.00000000e+00 -1.38919778e-01  1.92987047e-01]\n",
      " [ 1.00000000e+00 -1.95096675e-02  3.80627126e-03]\n",
      " [ 1.00000000e+00 -6.21037372e-02  3.85687417e-02]\n",
      " [ 1.00000000e+00 -1.79877854e-01  3.23560422e-01]\n",
      " [ 1.00000000e+00 -1.37307072e-01  1.88532320e-01]\n",
      " [ 1.00000000e+00  2.06111981e-01  4.24821488e-01]\n",
      " [ 1.00000000e+00 -1.52432741e-01  2.32357405e-01]\n",
      " [ 1.00000000e+00 -3.60733810e-02  1.30128882e-02]\n",
      " [ 1.00000000e+00 -1.66050500e-01  2.75727687e-01]\n",
      " [ 1.00000000e+00 -4.28444175e-02  1.83564411e-02]\n",
      " [ 1.00000000e+00 -3.24113157e-02  1.05049339e-02]\n",
      " [ 1.00000000e+00 -1.06368733e-01  1.13143074e-01]\n",
      " [ 1.00000000e+00 -1.04849180e-01  1.09933505e-01]\n",
      " [ 1.00000000e+00 -1.09780451e-01  1.20517474e-01]\n",
      " [ 1.00000000e+00 -1.46721316e-01  2.15271446e-01]\n",
      " [ 1.00000000e+00  6.69767875e-02  4.48589007e-02]\n",
      " [ 1.00000000e+00  7.53255978e-02  5.67394568e-02]\n",
      " [ 1.00000000e+00  3.87515210e-02  1.50168038e-02]\n",
      " [ 1.00000000e+00 -1.73526004e-01  3.01112741e-01]\n",
      " [ 1.00000000e+00  7.63805520e-01  5.83398873e+00]\n",
      " [ 1.00000000e+00  3.92883134e-01  1.54357157e+00]\n",
      " [ 1.00000000e+00  6.28734113e-01  3.95306585e+00]\n",
      " [ 1.00000000e+00 -5.48203609e-02  3.00527196e-02]\n",
      " [ 1.00000000e+00  7.87722475e-03  6.20506697e-04]\n",
      " [ 1.00000000e+00  1.20877266e-01  1.46113133e-01]\n",
      " [ 1.00000000e+00 -1.54889643e-01  2.39908016e-01]\n",
      " [ 1.00000000e+00  7.09194753e-01  5.02957198e+00]\n",
      " [ 1.00000000e+00  1.15055222e-01  1.32377041e-01]\n",
      " [ 1.00000000e+00 -4.80493244e-02  2.30873757e-02]\n",
      " [ 1.00000000e+00 -1.25383527e-01  1.57210289e-01]\n",
      " [ 1.00000000e+00 -5.43720635e-02  2.95632129e-02]\n",
      " [ 1.00000000e+00 -1.82398798e-01  3.32693216e-01]\n",
      " [ 1.00000000e+00 -9.38455179e-02  8.80698123e-02]\n",
      " [ 1.00000000e+00 -3.61665337e-02  1.30801816e-02]\n",
      " [ 1.00000000e+00 -1.81839882e-01  3.30657427e-01]\n",
      " [ 1.00000000e+00  1.23089642e-01  1.51510600e-01]\n",
      " [ 1.00000000e+00 -1.77694587e-01  3.15753663e-01]\n",
      " [ 1.00000000e+00 -1.41510587e-01  2.00252463e-01]\n",
      " [ 1.00000000e+00 -1.72996198e-01  2.99276846e-01]\n",
      " [ 1.00000000e+00 -1.05035485e-01  1.10324532e-01]\n",
      " [ 1.00000000e+00  9.36708566e-02  8.77422938e-02]\n",
      " [ 1.00000000e+00 -9.57085718e-02  9.16013071e-02]\n",
      " [ 1.00000000e+00  2.08079832e-02  4.32972164e-03]\n",
      " [ 1.00000000e+00  5.94081311e-02  3.52932604e-02]\n",
      " [ 1.00000000e+00 -1.25628053e-01  1.57824077e-01]\n",
      " [ 1.00000000e+00 -1.53667014e-01  2.36135512e-01]\n",
      " [ 1.00000000e+00 -1.80506634e-01  3.25826450e-01]\n",
      " [ 1.00000000e+00 -1.42762327e-01  2.03810819e-01]\n",
      " [ 1.00000000e+00 -3.04609312e-02  9.27868328e-03]\n",
      " [ 1.00000000e+00 -1.33272396e-01  1.77615315e-01]\n",
      " [ 1.00000000e+00 -1.66184407e-01  2.76172573e-01]\n",
      " [ 1.00000000e+00  7.77825001e-03  6.05011732e-04]\n",
      " [ 1.00000000e+00  3.04737397e-01  9.28648810e-01]\n",
      " [ 1.00000000e+00 -1.58528420e-01  2.51312600e-01]]\n"
     ]
    }
   ],
   "source": [
    "X_square=np.power(X,2)\n",
    "tempo=np.ones(shape=(X.shape[0],1))\n",
    "X=np.append(tempo,X,axis=1)\n",
    "X_square=np.append(X,10*X_square,axis=1)\n",
    "print(X_square.shape)\n",
    "print(X_square)"
   ]
  },
  {
   "cell_type": "code",
   "execution_count": 138,
   "metadata": {},
   "outputs": [
    {
     "name": "stdout",
     "output_type": "stream",
     "text": [
      "[[10. 10. 10.]]\n",
      "(97, 1)\n",
      "(97, 3)\n"
     ]
    }
   ],
   "source": [
    "theta_square=10*np.ones(shape=(1,3))\n",
    "print (theta_square)\n",
    "print (y.shape)\n",
    "print (X_square.shape)"
   ]
  },
  {
   "cell_type": "code",
   "execution_count": 139,
   "metadata": {},
   "outputs": [
    {
     "name": "stdout",
     "output_type": "stream",
     "text": [
      "(97, 1)\n",
      "(1, 3)\n",
      "Wall time: 0 ns\n"
     ]
    }
   ],
   "source": [
    "%%time\n",
    "m=np.squeeze((X_square.shape[0]))\n",
    "print((np.dot(X_square,theta_square.T)).shape)\n",
    "dev_square=(1/m)*(((X_square.T)@((np.dot(X_square,theta_square.T)) -y)).T)\n",
    "print(dev_square.shape)"
   ]
  },
  {
   "cell_type": "code",
   "execution_count": 140,
   "metadata": {},
   "outputs": [],
   "source": [
    "num_iterations=10000\n",
    "learning_rate=0.0003\n",
    "m=np.squeeze((X.shape[0]))"
   ]
  },
  {
   "cell_type": "code",
   "execution_count": 141,
   "metadata": {},
   "outputs": [
    {
     "name": "stdout",
     "output_type": "stream",
     "text": [
      "Cost after iteration 0: 99.011261\n",
      "Cost after iteration 1000: 33.263631\n",
      "Cost after iteration 2000: 13.665915\n",
      "Cost after iteration 3000: 7.806460\n",
      "Cost after iteration 4000: 6.042177\n",
      "Cost after iteration 5000: 5.502062\n",
      "Cost after iteration 6000: 5.330080\n",
      "Cost after iteration 7000: 5.270194\n",
      "Cost after iteration 8000: 5.245319\n",
      "Cost after iteration 9000: 5.231930\n",
      "Wall time: 358 ms\n"
     ]
    },
    {
     "data": {
      "image/png": "[encoded data removed]",
      "text/plain": [
       "<Figure size 432x288 with 1 Axes>"
      ]
     },
     "metadata": {
      "needs_background": "light"
     },
     "output_type": "display_data"
    }
   ],
   "source": [
    "%%time\n",
    "for i in range(0, num_iterations):\n",
    "        theta_square=theta_square-learning_rate*dev_square\n",
    "        cost_square = 1/(2*m)*((np.transpose((np.dot(X_square,theta_square.T)) -y))@((np.dot(X_square,theta_square.T)) -y))\n",
    "        dev_square=(1/m)*(((X_square.T)@((np.dot(X_square,theta_square.T)) -y)).T)\n",
    "        if  i % 1000 == 0:\n",
    "            pyplot.plot(i, cost_square, 'ro', ms=10, mec='k')\n",
    "            print (\"Cost after iteration %i: %f\" % (i, cost_square))"
   ]
  },
  {
   "cell_type": "code",
   "execution_count": 142,
   "metadata": {},
   "outputs": [
    {
     "name": "stdout",
     "output_type": "stream",
     "text": [
      "[[5.04061261 9.52918648 1.74057857]]\n"
     ]
    }
   ],
   "source": [
    "print(theta_square)"
   ]
  },
  {
   "cell_type": "code",
   "execution_count": 143,
   "metadata": {},
   "outputs": [
    {
     "data": {
      "text/plain": [
       "Text(0.5, 0, 'Population of City in 10,000s')"
      ]
     },
     "execution_count": 143,
     "metadata": {},
     "output_type": "execute_result"
    },
    {
     "data": {
      "image/png": "[encoded data removed]",
      "text/plain": [
       "<Figure size 432x288 with 1 Axes>"
      ]
     },
     "metadata": {
      "needs_background": "light"
     },
     "output_type": "display_data"
    }
   ],
   "source": [
    "pyplot.plot(data[:, 0], np.dot(X_square,theta_square.T), 'bo', ms=10, mec='k')\n",
    "pyplot.ylabel('Profit in $10,000')\n",
    "pyplot.xlabel('Population of City in 10,000s')"
   ]
  },
  {
   "cell_type": "code",
   "execution_count": 144,
   "metadata": {},
   "outputs": [
    {
     "data": {
      "text/plain": [
       "Text(0.5, 0, 'Population of City in 10,000s')"
      ]
     },
     "execution_count": 144,
     "metadata": {},
     "output_type": "execute_result"
    },
    {
     "data": {
      "image/png": "[encoded data removed]",
      "text/plain": [
       "<Figure size 432x288 with 1 Axes>"
      ]
     },
     "metadata": {
      "needs_background": "light"
     },
     "output_type": "display_data"
    }
   ],
   "source": [
    "pyplot.plot(data[:, 0], data[:, 1], 'ro', ms=10, mec='k')\n",
    "pyplot.plot(data[:, 0], np.dot(X_square,theta_square.T), 'bo', ms=10, mec='k')\n",
    "pyplot.ylabel('Profit in $10,000')\n",
    "pyplot.xlabel('Population of City in 10,000s')"
   ]
  },
  {
   "cell_type": "code",
   "execution_count": null,
   "metadata": {},
   "outputs": [],
   "source": []
  },
  {
   "cell_type": "code",
   "execution_count": null,
   "metadata": {},
   "outputs": [],
   "source": []
  },
  {
   "cell_type": "code",
   "execution_count": null,
   "metadata": {},
   "outputs": [],
   "source": []
  },
  {
   "cell_type": "code",
   "execution_count": null,
   "metadata": {},
   "outputs": [],
   "source": []
  }
 ],
 "metadata": {
  "kernelspec": {
   "display_name": "Python 3",
   "language": "python",
   "name": "python3"
  },
  "language_info": {
   "codemirror_mode": {
    "name": "ipython",
    "version": 3
   },
   "file_extension": ".py",
   "mimetype": "text/x-python",
   "name": "python",
   "nbconvert_exporter": "python",
   "pygments_lexer": "ipython3",
   "version": "3.7.6"
  }
 },
 "nbformat": 4,
 "nbformat_minor": 4
}
